{
 "cells": [
  {
   "cell_type": "code",
   "execution_count": 1,
   "id": "3f20580b-5afa-4aa9-b1b5-2486c2365617",
   "metadata": {},
   "outputs": [],
   "source": [
    "import pandas as pd\n",
    "from sqlalchemy import create_engine\n",
    "\n",
    "engine = create_engine(\n",
    "    \"postgresql://robot-startml-ro:pheiph0hahj1Vaif@\"\n",
    "    \"postgres.lab.karpov.courses:6432/startml\"\n",
    ")"
   ]
  },
  {
   "cell_type": "code",
   "execution_count": 2,
   "id": "f6744ac4-4fc5-4d6b-9c64-1c193a769e9b",
   "metadata": {},
   "outputs": [
    {
     "data": {
      "text/html": [
       "<div>\n",
       "<style scoped>\n",
       "    .dataframe tbody tr th:only-of-type {\n",
       "        vertical-align: middle;\n",
       "    }\n",
       "\n",
       "    .dataframe tbody tr th {\n",
       "        vertical-align: top;\n",
       "    }\n",
       "\n",
       "    .dataframe thead th {\n",
       "        text-align: right;\n",
       "    }\n",
       "</style>\n",
       "<table border=\"1\" class=\"dataframe\">\n",
       "  <thead>\n",
       "    <tr style=\"text-align: right;\">\n",
       "      <th></th>\n",
       "      <th>timestamp</th>\n",
       "      <th>user_id</th>\n",
       "      <th>post_id</th>\n",
       "      <th>action</th>\n",
       "      <th>target</th>\n",
       "    </tr>\n",
       "  </thead>\n",
       "  <tbody>\n",
       "    <tr>\n",
       "      <th>0</th>\n",
       "      <td>2021-12-27 18:19:18</td>\n",
       "      <td>22833</td>\n",
       "      <td>1486</td>\n",
       "      <td>view</td>\n",
       "      <td>0</td>\n",
       "    </tr>\n",
       "    <tr>\n",
       "      <th>1</th>\n",
       "      <td>2021-12-27 18:20:40</td>\n",
       "      <td>22833</td>\n",
       "      <td>2123</td>\n",
       "      <td>view</td>\n",
       "      <td>0</td>\n",
       "    </tr>\n",
       "    <tr>\n",
       "      <th>2</th>\n",
       "      <td>2021-12-27 18:20:53</td>\n",
       "      <td>22833</td>\n",
       "      <td>4704</td>\n",
       "      <td>view</td>\n",
       "      <td>0</td>\n",
       "    </tr>\n",
       "    <tr>\n",
       "      <th>3</th>\n",
       "      <td>2021-12-27 18:22:25</td>\n",
       "      <td>22833</td>\n",
       "      <td>2533</td>\n",
       "      <td>view</td>\n",
       "      <td>0</td>\n",
       "    </tr>\n",
       "    <tr>\n",
       "      <th>4</th>\n",
       "      <td>2021-12-27 18:24:01</td>\n",
       "      <td>22833</td>\n",
       "      <td>3345</td>\n",
       "      <td>view</td>\n",
       "      <td>0</td>\n",
       "    </tr>\n",
       "    <tr>\n",
       "      <th>...</th>\n",
       "      <td>...</td>\n",
       "      <td>...</td>\n",
       "      <td>...</td>\n",
       "      <td>...</td>\n",
       "      <td>...</td>\n",
       "    </tr>\n",
       "    <tr>\n",
       "      <th>999995</th>\n",
       "      <td>2021-12-01 16:42:26</td>\n",
       "      <td>30609</td>\n",
       "      <td>4634</td>\n",
       "      <td>view</td>\n",
       "      <td>0</td>\n",
       "    </tr>\n",
       "    <tr>\n",
       "      <th>999996</th>\n",
       "      <td>2021-12-01 16:44:07</td>\n",
       "      <td>30609</td>\n",
       "      <td>6867</td>\n",
       "      <td>view</td>\n",
       "      <td>0</td>\n",
       "    </tr>\n",
       "    <tr>\n",
       "      <th>999997</th>\n",
       "      <td>2021-12-01 16:45:59</td>\n",
       "      <td>30609</td>\n",
       "      <td>6183</td>\n",
       "      <td>view</td>\n",
       "      <td>0</td>\n",
       "    </tr>\n",
       "    <tr>\n",
       "      <th>999998</th>\n",
       "      <td>2021-12-01 16:46:23</td>\n",
       "      <td>30609</td>\n",
       "      <td>2287</td>\n",
       "      <td>view</td>\n",
       "      <td>0</td>\n",
       "    </tr>\n",
       "    <tr>\n",
       "      <th>999999</th>\n",
       "      <td>2021-12-01 16:48:11</td>\n",
       "      <td>30609</td>\n",
       "      <td>4080</td>\n",
       "      <td>view</td>\n",
       "      <td>0</td>\n",
       "    </tr>\n",
       "  </tbody>\n",
       "</table>\n",
       "<p>1000000 rows × 5 columns</p>\n",
       "</div>"
      ],
      "text/plain": [
       "                 timestamp  user_id  post_id action  target\n",
       "0      2021-12-27 18:19:18    22833     1486   view       0\n",
       "1      2021-12-27 18:20:40    22833     2123   view       0\n",
       "2      2021-12-27 18:20:53    22833     4704   view       0\n",
       "3      2021-12-27 18:22:25    22833     2533   view       0\n",
       "4      2021-12-27 18:24:01    22833     3345   view       0\n",
       "...                    ...      ...      ...    ...     ...\n",
       "999995 2021-12-01 16:42:26    30609     4634   view       0\n",
       "999996 2021-12-01 16:44:07    30609     6867   view       0\n",
       "999997 2021-12-01 16:45:59    30609     6183   view       0\n",
       "999998 2021-12-01 16:46:23    30609     2287   view       0\n",
       "999999 2021-12-01 16:48:11    30609     4080   view       0\n",
       "\n",
       "[1000000 rows x 5 columns]"
      ]
     },
     "execution_count": 2,
     "metadata": {},
     "output_type": "execute_result"
    }
   ],
   "source": [
    "feed_df = pd.read_sql(\"\"\"\n",
    "SELECT timestamp, user_id, post_id, action, target\n",
    "FROM \"feed_data\"\n",
    "LIMIT 1000000\n",
    "\"\"\", con=engine)\n",
    "feed_df"
   ]
  },
  {
   "cell_type": "code",
   "execution_count": 3,
   "id": "3ac183da-acf6-4b14-ba33-9e0e546da9ae",
   "metadata": {},
   "outputs": [],
   "source": [
    "feed_df = feed_df[feed_df.action=='view']"
   ]
  },
  {
   "cell_type": "code",
   "execution_count": 4,
   "id": "cedabcd9-e001-42f5-972f-45d82859dc74",
   "metadata": {},
   "outputs": [
    {
     "data": {
      "text/plain": [
       "0.11952858937299744"
      ]
     },
     "execution_count": 4,
     "metadata": {},
     "output_type": "execute_result"
    }
   ],
   "source": [
    "feed_df.target.mean()"
   ]
  },
  {
   "cell_type": "code",
   "execution_count": 5,
   "id": "895e3e26-628f-4c23-93a9-61fd2e051a08",
   "metadata": {},
   "outputs": [
    {
     "data": {
      "text/plain": [
       "timestamp    535007\n",
       "user_id        2112\n",
       "post_id        6831\n",
       "action            1\n",
       "target            2\n",
       "dtype: int64"
      ]
     },
     "execution_count": 5,
     "metadata": {},
     "output_type": "execute_result"
    }
   ],
   "source": [
    "feed_df.nunique()"
   ]
  },
  {
   "cell_type": "code",
   "execution_count": 6,
   "id": "7344a9ef-b8e4-4ddf-82eb-e39278adb7c8",
   "metadata": {},
   "outputs": [],
   "source": [
    "import pickle\n",
    "with open('feed_data.pkl', 'wb') as f:\n",
    "    pickle.dump(feed_df, f)"
   ]
  }
 ],
 "metadata": {
  "kernelspec": {
   "display_name": "Python 3 (ipykernel)",
   "language": "python",
   "name": "python3"
  },
  "language_info": {
   "codemirror_mode": {
    "name": "ipython",
    "version": 3
   },
   "file_extension": ".py",
   "mimetype": "text/x-python",
   "name": "python",
   "nbconvert_exporter": "python",
   "pygments_lexer": "ipython3",
   "version": "3.8.10"
  }
 },
 "nbformat": 4,
 "nbformat_minor": 5
}
