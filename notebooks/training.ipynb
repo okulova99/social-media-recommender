{
 "cells": [
  {
   "cell_type": "code",
   "execution_count": 6,
   "id": "0577fd48-aa0e-44ef-8ba1-327e5a0f80b7",
   "metadata": {},
   "outputs": [],
   "source": [
    "import pandas as pd\n",
    "from sqlalchemy import create_engine\n",
    "\n",
    "engine = create_engine(\n",
    "    \"postgresql://robot-startml-ro:pheiph0hahj1Vaif@\"\n",
    "    \"postgres.lab.karpov.courses:6432/startml\"\n",
    ")"
   ]
  },
  {
   "cell_type": "code",
   "execution_count": 7,
   "id": "8f3becf8-faa3-4830-a42a-048655ca5c70",
   "metadata": {},
   "outputs": [],
   "source": [
    "import pickle\n",
    "with open('user_df.pkl', 'rb') as f:\n",
    "    user_df = pickle.load(f)\n",
    "\n",
    "with open('posts_feautures.pkl', 'rb') as f:\n",
    "    post_df = pickle.load(f)\n",
    "    \n",
    "with open('feed_data.pkl', 'rb') as f:\n",
    "    feed_df = pickle.load(f)"
   ]
  },
  {
   "cell_type": "code",
   "execution_count": 8,
   "id": "802da5ed-c691-4ad1-bf16-c0de3f64c88e",
   "metadata": {},
   "outputs": [
    {
     "data": {
      "text/plain": [
       "Index(['user_id', 'country', 'gender', 'age', 'city', 'exp_group'], dtype='object')"
      ]
     },
     "execution_count": 8,
     "metadata": {},
     "output_type": "execute_result"
    }
   ],
   "source": [
    "user_df.columns"
   ]
  },
  {
   "cell_type": "code",
   "execution_count": 9,
   "id": "ade18fee-d515-434b-8625-b5944290493d",
   "metadata": {},
   "outputs": [
    {
     "name": "stdout",
     "output_type": "stream",
     "text": [
      "<class 'pandas.core.frame.DataFrame'>\n",
      "Int64Index: 163205 entries, 0 to 163204\n",
      "Data columns (total 6 columns):\n",
      " #   Column     Non-Null Count   Dtype \n",
      "---  ------     --------------   ----- \n",
      " 0   user_id    163205 non-null  int64 \n",
      " 1   country    163205 non-null  object\n",
      " 2   gender     163205 non-null  int64 \n",
      " 3   age        163205 non-null  int64 \n",
      " 4   city       163205 non-null  object\n",
      " 5   exp_group  163205 non-null  int64 \n",
      "dtypes: int64(4), object(2)\n",
      "memory usage: 8.7+ MB\n"
     ]
    }
   ],
   "source": [
    "user_df.info()"
   ]
  },
  {
   "cell_type": "code",
   "execution_count": 4,
   "id": "25d69f45-2e5d-4c8c-a5a2-742a73b06dcb",
   "metadata": {},
   "outputs": [
    {
     "name": "stdout",
     "output_type": "stream",
     "text": [
      "Общий объем датафрейма: 26.47 МБ\n"
     ]
    }
   ],
   "source": [
    "df_memory = user_df.memory_usage(deep=True).sum()\n",
    "\n",
    "print(f\"Общий объем датафрейма: {df_memory / (1024**2):.2f} МБ\")"
   ]
  },
  {
   "cell_type": "code",
   "execution_count": 5,
   "id": "9d4022b2-3b0f-4a39-bd0f-e77b8a3b44e7",
   "metadata": {},
   "outputs": [
    {
     "name": "stdout",
     "output_type": "stream",
     "text": [
      "Общий объем датафрейма: 10.88 МБ\n"
     ]
    }
   ],
   "source": [
    "df_memory = post_df.memory_usage(deep=True).sum()\n",
    "\n",
    "print(f\"Общий объем датафрейма: {df_memory / (1024**2):.2f} МБ\")"
   ]
  },
  {
   "cell_type": "code",
   "execution_count": 13,
   "id": "798eb05f-a0f6-460e-9d9b-18bd1bf35033",
   "metadata": {},
   "outputs": [
    {
     "data": {
      "text/plain": [
       "((163205, 6), (893553, 5), (7023, 24))"
      ]
     },
     "execution_count": 13,
     "metadata": {},
     "output_type": "execute_result"
    }
   ],
   "source": [
    "user_df.shape, feed_df.shape, post_df.shape"
   ]
  },
  {
   "cell_type": "code",
   "execution_count": 14,
   "id": "05423419-b2ce-4329-84a3-05f8f6d97dc9",
   "metadata": {},
   "outputs": [],
   "source": [
    "df = feed_df.merge(post_df, on='post_id')"
   ]
  },
  {
   "cell_type": "code",
   "execution_count": 15,
   "id": "49c20b3a-136d-4616-b8d1-bb8bdbd18709",
   "metadata": {},
   "outputs": [],
   "source": [
    "df = df.merge(user_df, on='user_id')"
   ]
  },
  {
   "cell_type": "code",
   "execution_count": 16,
   "id": "fb578645-e446-450b-a486-6d50106f9c72",
   "metadata": {},
   "outputs": [
    {
     "data": {
      "text/html": [
       "<div>\n",
       "<style scoped>\n",
       "    .dataframe tbody tr th:only-of-type {\n",
       "        vertical-align: middle;\n",
       "    }\n",
       "\n",
       "    .dataframe tbody tr th {\n",
       "        vertical-align: top;\n",
       "    }\n",
       "\n",
       "    .dataframe thead th {\n",
       "        text-align: right;\n",
       "    }\n",
       "</style>\n",
       "<table border=\"1\" class=\"dataframe\">\n",
       "  <thead>\n",
       "    <tr style=\"text-align: right;\">\n",
       "      <th></th>\n",
       "      <th>user_id</th>\n",
       "      <th>post_id</th>\n",
       "      <th>target</th>\n",
       "      <th>views</th>\n",
       "      <th>view_reach</th>\n",
       "      <th>TotalTfIdf</th>\n",
       "      <th>MaxTfIdf</th>\n",
       "      <th>MeanTfIdf</th>\n",
       "      <th>TextCluster</th>\n",
       "      <th>DistanceTo1thCluster</th>\n",
       "      <th>...</th>\n",
       "      <th>DistanceTo9thCluster</th>\n",
       "      <th>DistanceTo10thCluster</th>\n",
       "      <th>DistanceTo11thCluster</th>\n",
       "      <th>DistanceTo12thCluster</th>\n",
       "      <th>DistanceTo13thCluster</th>\n",
       "      <th>DistanceTo14thCluster</th>\n",
       "      <th>DistanceTo15thCluster</th>\n",
       "      <th>gender</th>\n",
       "      <th>age</th>\n",
       "      <th>exp_group</th>\n",
       "    </tr>\n",
       "  </thead>\n",
       "  <tbody>\n",
       "    <tr>\n",
       "      <th>count</th>\n",
       "      <td>893553.000000</td>\n",
       "      <td>893553.000000</td>\n",
       "      <td>893553.000000</td>\n",
       "      <td>893553.000000</td>\n",
       "      <td>893553.000000</td>\n",
       "      <td>893553.000000</td>\n",
       "      <td>893553.000000</td>\n",
       "      <td>893553.000000</td>\n",
       "      <td>893553.000000</td>\n",
       "      <td>893553.000000</td>\n",
       "      <td>...</td>\n",
       "      <td>893553.000000</td>\n",
       "      <td>893553.000000</td>\n",
       "      <td>893553.000000</td>\n",
       "      <td>893553.000000</td>\n",
       "      <td>893553.000000</td>\n",
       "      <td>893553.000000</td>\n",
       "      <td>893553.000000</td>\n",
       "      <td>893553.000000</td>\n",
       "      <td>893553.000000</td>\n",
       "      <td>893553.000000</td>\n",
       "    </tr>\n",
       "    <tr>\n",
       "      <th>mean</th>\n",
       "      <td>111214.733566</td>\n",
       "      <td>3394.504341</td>\n",
       "      <td>0.119126</td>\n",
       "      <td>12737.659533</td>\n",
       "      <td>12011.884406</td>\n",
       "      <td>101318.573809</td>\n",
       "      <td>101318.573809</td>\n",
       "      <td>41277.937478</td>\n",
       "      <td>7.274654</td>\n",
       "      <td>0.463929</td>\n",
       "      <td>...</td>\n",
       "      <td>0.426237</td>\n",
       "      <td>0.349619</td>\n",
       "      <td>0.368943</td>\n",
       "      <td>0.429766</td>\n",
       "      <td>0.336641</td>\n",
       "      <td>0.455029</td>\n",
       "      <td>0.375440</td>\n",
       "      <td>0.543103</td>\n",
       "      <td>27.107926</td>\n",
       "      <td>2.022574</td>\n",
       "    </tr>\n",
       "    <tr>\n",
       "      <th>std</th>\n",
       "      <td>41372.218687</td>\n",
       "      <td>2096.609517</td>\n",
       "      <td>0.323936</td>\n",
       "      <td>6146.979692</td>\n",
       "      <td>5543.793302</td>\n",
       "      <td>40213.492966</td>\n",
       "      <td>40213.492966</td>\n",
       "      <td>16383.274912</td>\n",
       "      <td>3.738898</td>\n",
       "      <td>0.127962</td>\n",
       "      <td>...</td>\n",
       "      <td>0.136033</td>\n",
       "      <td>0.098571</td>\n",
       "      <td>0.150910</td>\n",
       "      <td>0.081169</td>\n",
       "      <td>0.091522</td>\n",
       "      <td>0.099589</td>\n",
       "      <td>0.078572</td>\n",
       "      <td>0.498139</td>\n",
       "      <td>10.279033</td>\n",
       "      <td>1.407561</td>\n",
       "    </tr>\n",
       "    <tr>\n",
       "      <th>min</th>\n",
       "      <td>6495.000000</td>\n",
       "      <td>1.000000</td>\n",
       "      <td>0.000000</td>\n",
       "      <td>6423.000000</td>\n",
       "      <td>6289.000000</td>\n",
       "      <td>47988.000000</td>\n",
       "      <td>47988.000000</td>\n",
       "      <td>19550.666667</td>\n",
       "      <td>0.000000</td>\n",
       "      <td>0.066458</td>\n",
       "      <td>...</td>\n",
       "      <td>0.051056</td>\n",
       "      <td>0.098010</td>\n",
       "      <td>0.058596</td>\n",
       "      <td>0.058162</td>\n",
       "      <td>0.069601</td>\n",
       "      <td>0.092005</td>\n",
       "      <td>0.101455</td>\n",
       "      <td>0.000000</td>\n",
       "      <td>14.000000</td>\n",
       "      <td>0.000000</td>\n",
       "    </tr>\n",
       "    <tr>\n",
       "      <th>25%</th>\n",
       "      <td>56422.000000</td>\n",
       "      <td>1526.000000</td>\n",
       "      <td>0.000000</td>\n",
       "      <td>6769.000000</td>\n",
       "      <td>6618.000000</td>\n",
       "      <td>64152.000000</td>\n",
       "      <td>64152.000000</td>\n",
       "      <td>26136.000000</td>\n",
       "      <td>4.000000</td>\n",
       "      <td>0.382430</td>\n",
       "      <td>...</td>\n",
       "      <td>0.337023</td>\n",
       "      <td>0.271770</td>\n",
       "      <td>0.278665</td>\n",
       "      <td>0.384571</td>\n",
       "      <td>0.272313</td>\n",
       "      <td>0.413018</td>\n",
       "      <td>0.323558</td>\n",
       "      <td>0.000000</td>\n",
       "      <td>19.000000</td>\n",
       "      <td>1.000000</td>\n",
       "    </tr>\n",
       "    <tr>\n",
       "      <th>50%</th>\n",
       "      <td>126257.000000</td>\n",
       "      <td>3179.000000</td>\n",
       "      <td>0.000000</td>\n",
       "      <td>8734.000000</td>\n",
       "      <td>8439.000000</td>\n",
       "      <td>73933.200000</td>\n",
       "      <td>73933.200000</td>\n",
       "      <td>30120.933333</td>\n",
       "      <td>7.000000</td>\n",
       "      <td>0.481873</td>\n",
       "      <td>...</td>\n",
       "      <td>0.446261</td>\n",
       "      <td>0.354259</td>\n",
       "      <td>0.395818</td>\n",
       "      <td>0.434329</td>\n",
       "      <td>0.335574</td>\n",
       "      <td>0.461616</td>\n",
       "      <td>0.371304</td>\n",
       "      <td>1.000000</td>\n",
       "      <td>24.000000</td>\n",
       "      <td>2.000000</td>\n",
       "    </tr>\n",
       "    <tr>\n",
       "      <th>75%</th>\n",
       "      <td>139961.000000</td>\n",
       "      <td>5206.000000</td>\n",
       "      <td>0.000000</td>\n",
       "      <td>17081.000000</td>\n",
       "      <td>16031.000000</td>\n",
       "      <td>138704.400000</td>\n",
       "      <td>138704.400000</td>\n",
       "      <td>56509.200000</td>\n",
       "      <td>10.000000</td>\n",
       "      <td>0.554461</td>\n",
       "      <td>...</td>\n",
       "      <td>0.524502</td>\n",
       "      <td>0.423724</td>\n",
       "      <td>0.476326</td>\n",
       "      <td>0.483074</td>\n",
       "      <td>0.405894</td>\n",
       "      <td>0.523532</td>\n",
       "      <td>0.429063</td>\n",
       "      <td>1.000000</td>\n",
       "      <td>33.000000</td>\n",
       "      <td>3.000000</td>\n",
       "    </tr>\n",
       "    <tr>\n",
       "      <th>max</th>\n",
       "      <td>159305.000000</td>\n",
       "      <td>7319.000000</td>\n",
       "      <td>1.000000</td>\n",
       "      <td>22673.000000</td>\n",
       "      <td>20892.000000</td>\n",
       "      <td>179575.200000</td>\n",
       "      <td>179575.200000</td>\n",
       "      <td>73160.266667</td>\n",
       "      <td>14.000000</td>\n",
       "      <td>0.803320</td>\n",
       "      <td>...</td>\n",
       "      <td>0.785510</td>\n",
       "      <td>0.684422</td>\n",
       "      <td>0.746817</td>\n",
       "      <td>0.716423</td>\n",
       "      <td>0.652008</td>\n",
       "      <td>0.743878</td>\n",
       "      <td>0.683760</td>\n",
       "      <td>1.000000</td>\n",
       "      <td>87.000000</td>\n",
       "      <td>4.000000</td>\n",
       "    </tr>\n",
       "  </tbody>\n",
       "</table>\n",
       "<p>8 rows × 27 columns</p>\n",
       "</div>"
      ],
      "text/plain": [
       "             user_id        post_id         target          views  \\\n",
       "count  893553.000000  893553.000000  893553.000000  893553.000000   \n",
       "mean   111214.733566    3394.504341       0.119126   12737.659533   \n",
       "std     41372.218687    2096.609517       0.323936    6146.979692   \n",
       "min      6495.000000       1.000000       0.000000    6423.000000   \n",
       "25%     56422.000000    1526.000000       0.000000    6769.000000   \n",
       "50%    126257.000000    3179.000000       0.000000    8734.000000   \n",
       "75%    139961.000000    5206.000000       0.000000   17081.000000   \n",
       "max    159305.000000    7319.000000       1.000000   22673.000000   \n",
       "\n",
       "          view_reach     TotalTfIdf       MaxTfIdf      MeanTfIdf  \\\n",
       "count  893553.000000  893553.000000  893553.000000  893553.000000   \n",
       "mean    12011.884406  101318.573809  101318.573809   41277.937478   \n",
       "std      5543.793302   40213.492966   40213.492966   16383.274912   \n",
       "min      6289.000000   47988.000000   47988.000000   19550.666667   \n",
       "25%      6618.000000   64152.000000   64152.000000   26136.000000   \n",
       "50%      8439.000000   73933.200000   73933.200000   30120.933333   \n",
       "75%     16031.000000  138704.400000  138704.400000   56509.200000   \n",
       "max     20892.000000  179575.200000  179575.200000   73160.266667   \n",
       "\n",
       "         TextCluster  DistanceTo1thCluster  ...  DistanceTo9thCluster  \\\n",
       "count  893553.000000         893553.000000  ...         893553.000000   \n",
       "mean        7.274654              0.463929  ...              0.426237   \n",
       "std         3.738898              0.127962  ...              0.136033   \n",
       "min         0.000000              0.066458  ...              0.051056   \n",
       "25%         4.000000              0.382430  ...              0.337023   \n",
       "50%         7.000000              0.481873  ...              0.446261   \n",
       "75%        10.000000              0.554461  ...              0.524502   \n",
       "max        14.000000              0.803320  ...              0.785510   \n",
       "\n",
       "       DistanceTo10thCluster  DistanceTo11thCluster  DistanceTo12thCluster  \\\n",
       "count          893553.000000          893553.000000          893553.000000   \n",
       "mean                0.349619               0.368943               0.429766   \n",
       "std                 0.098571               0.150910               0.081169   \n",
       "min                 0.098010               0.058596               0.058162   \n",
       "25%                 0.271770               0.278665               0.384571   \n",
       "50%                 0.354259               0.395818               0.434329   \n",
       "75%                 0.423724               0.476326               0.483074   \n",
       "max                 0.684422               0.746817               0.716423   \n",
       "\n",
       "       DistanceTo13thCluster  DistanceTo14thCluster  DistanceTo15thCluster  \\\n",
       "count          893553.000000          893553.000000          893553.000000   \n",
       "mean                0.336641               0.455029               0.375440   \n",
       "std                 0.091522               0.099589               0.078572   \n",
       "min                 0.069601               0.092005               0.101455   \n",
       "25%                 0.272313               0.413018               0.323558   \n",
       "50%                 0.335574               0.461616               0.371304   \n",
       "75%                 0.405894               0.523532               0.429063   \n",
       "max                 0.652008               0.743878               0.683760   \n",
       "\n",
       "              gender            age      exp_group  \n",
       "count  893553.000000  893553.000000  893553.000000  \n",
       "mean        0.543103      27.107926       2.022574  \n",
       "std         0.498139      10.279033       1.407561  \n",
       "min         0.000000      14.000000       0.000000  \n",
       "25%         0.000000      19.000000       1.000000  \n",
       "50%         1.000000      24.000000       2.000000  \n",
       "75%         1.000000      33.000000       3.000000  \n",
       "max         1.000000      87.000000       4.000000  \n",
       "\n",
       "[8 rows x 27 columns]"
      ]
     },
     "execution_count": 16,
     "metadata": {},
     "output_type": "execute_result"
    }
   ],
   "source": [
    "df.describe()"
   ]
  },
  {
   "cell_type": "code",
   "execution_count": 17,
   "id": "e4406b25-8f83-4748-93c3-e3bd9c5560da",
   "metadata": {},
   "outputs": [],
   "source": [
    "df['request_hour'] = df.timestamp.dt.hour\n",
    "df['request_day_of_week'] = df.timestamp.dt.weekday\n",
    "df['request_month'] = df.timestamp.dt.month\n",
    "df['request_week'] = df.timestamp.dt.isocalendar().week.astype('int')\n",
    "    \n",
    "df['is_weekend'] = (df['request_day_of_week'] >= 5).astype(int)"
   ]
  },
  {
   "cell_type": "code",
   "execution_count": 18,
   "id": "fd347395-2a0f-4940-9608-5640f0dfe1c7",
   "metadata": {},
   "outputs": [],
   "source": [
    "bins = [0, 6, 12, 18, 24]\n",
    "labels = ['night', 'morning', 'afternoon', 'evening']\n",
    "df['time_of_day'] = pd.cut(df['request_hour'], bins=bins, labels=labels, include_lowest=True, right=False).fillna('night')"
   ]
  },
  {
   "cell_type": "code",
   "execution_count": 19,
   "id": "ca4c09c0-f2f2-42d7-aabd-2856c19b767a",
   "metadata": {},
   "outputs": [
    {
     "data": {
      "text/plain": [
       "afternoon    316262\n",
       "morning      290036\n",
       "evening      287252\n",
       "night             3\n",
       "Name: time_of_day, dtype: int64"
      ]
     },
     "execution_count": 19,
     "metadata": {},
     "output_type": "execute_result"
    }
   ],
   "source": [
    "df['time_of_day'].value_counts()"
   ]
  },
  {
   "cell_type": "code",
   "execution_count": 20,
   "id": "2433d272-1073-45f0-825f-8eab08380bbb",
   "metadata": {},
   "outputs": [],
   "source": [
    "with open('training_set.pkl', 'wb') as f:\n",
    "    pickle.dump(df, f)"
   ]
  },
  {
   "cell_type": "code",
   "execution_count": 1,
   "id": "a1aab3bf-2477-4401-b1b1-9824793bc426",
   "metadata": {},
   "outputs": [],
   "source": [
    "import pickle\n",
    "\n",
    "with open('training_set.pkl', 'rb') as f:\n",
    "    df = pickle.load(f)"
   ]
  },
  {
   "cell_type": "code",
   "execution_count": 2,
   "id": "b9526544-0e32-46f4-845f-6b2107380e68",
   "metadata": {},
   "outputs": [],
   "source": [
    "df = df.drop([\n",
    "#    'timestamp',\n",
    "    'action',\n",
    "    'text'],\n",
    "    axis=1)\n",
    "\n",
    "df = df.set_index(['user_id', 'post_id'])"
   ]
  },
  {
   "cell_type": "code",
   "execution_count": 3,
   "id": "181ebb23-c606-4462-a6bd-9a34963723a0",
   "metadata": {},
   "outputs": [
    {
     "data": {
      "text/plain": [
       "(Timestamp('2021-12-29 23:51:06'), Timestamp('2021-10-01 06:05:25'))"
      ]
     },
     "execution_count": 3,
     "metadata": {},
     "output_type": "execute_result"
    }
   ],
   "source": [
    "df.timestamp.max(), df.timestamp.min()"
   ]
  },
  {
   "cell_type": "code",
   "execution_count": 4,
   "id": "a0925ca1-86b0-4dba-8ff7-c8a41762a469",
   "metadata": {},
   "outputs": [],
   "source": [
    "X = df.drop(['target'], axis=1)\n",
    "y = df['target']"
   ]
  },
  {
   "cell_type": "code",
   "execution_count": 5,
   "id": "753f72c9-c55d-4aef-8dec-d0cc69e8c411",
   "metadata": {},
   "outputs": [],
   "source": [
    "train_mask = df['timestamp'] < df['timestamp'].quantile(q=5/6)\n",
    "X_train, y_train = df.drop(['timestamp', 'target'], axis=1)[train_mask], df['target'][train_mask]\n",
    "X_test, y_test = df.drop(['timestamp', 'target'], axis=1)[~train_mask], df['target'][~train_mask]"
   ]
  },
  {
   "cell_type": "code",
   "execution_count": 6,
   "id": "94cff886-84d4-47f5-8bac-66aa2efd7aec",
   "metadata": {},
   "outputs": [
    {
     "data": {
      "text/plain": [
       "0.2000024173209101"
      ]
     },
     "execution_count": 6,
     "metadata": {},
     "output_type": "execute_result"
    }
   ],
   "source": [
    "X_test.shape[0]/X_train.shape[0]"
   ]
  },
  {
   "cell_type": "code",
   "execution_count": 7,
   "id": "c988ac0d-b075-41c1-825f-53fb4c4aa910",
   "metadata": {},
   "outputs": [
    {
     "data": {
      "text/plain": [
       "Index(['topic', 'views', 'view_reach', 'TotalTfIdf', 'MaxTfIdf', 'MeanTfIdf',\n",
       "       'TextCluster', 'DistanceTo1thCluster', 'DistanceTo2thCluster',\n",
       "       'DistanceTo3thCluster', 'DistanceTo4thCluster', 'DistanceTo5thCluster',\n",
       "       'DistanceTo6thCluster', 'DistanceTo7thCluster', 'DistanceTo8thCluster',\n",
       "       'DistanceTo9thCluster', 'DistanceTo10thCluster',\n",
       "       'DistanceTo11thCluster', 'DistanceTo12thCluster',\n",
       "       'DistanceTo13thCluster', 'DistanceTo14thCluster',\n",
       "       'DistanceTo15thCluster', 'country', 'gender', 'age', 'city',\n",
       "       'exp_group', 'request_hour', 'request_day_of_week', 'request_month',\n",
       "       'request_week', 'is_weekend', 'time_of_day'],\n",
       "      dtype='object')"
      ]
     },
     "execution_count": 7,
     "metadata": {},
     "output_type": "execute_result"
    }
   ],
   "source": [
    "X_train.columns"
   ]
  },
  {
   "cell_type": "code",
   "execution_count": 8,
   "id": "7cd94808-ef47-4d3c-84de-bf890c049e62",
   "metadata": {},
   "outputs": [],
   "source": [
    "cat_features = [\n",
    "    'topic', 'TextCluster', 'gender', 'country',\n",
    "    'city', 'exp_group', 'time_of_day', \n",
    "    'is_weekend', 'request_week', 'request_month',\n",
    "    'request_day_of_week', 'request_hour','time_of_day'\n",
    "]"
   ]
  },
  {
   "cell_type": "code",
   "execution_count": 9,
   "id": "2c4130e2-2020-4df3-8e5c-503e056a2b05",
   "metadata": {},
   "outputs": [],
   "source": [
    "from catboost import CatBoostClassifier"
   ]
  },
  {
   "cell_type": "code",
   "execution_count": 11,
   "id": "b21f811b-86fc-4468-82ad-3fc565861c40",
   "metadata": {},
   "outputs": [
    {
     "name": "stdout",
     "output_type": "stream",
     "text": [
      "0:\tlearn: 0.3579188\ttest: 0.4014236\tbest: 0.4014236 (0)\ttotal: 322ms\tremaining: 11.9s\n",
      "1:\tlearn: 0.3499947\ttest: 0.3934047\tbest: 0.3934047 (1)\ttotal: 718ms\tremaining: 12.9s\n",
      "2:\tlearn: 0.3377892\ttest: 0.3825219\tbest: 0.3825219 (2)\ttotal: 1.01s\tremaining: 11.8s\n",
      "3:\tlearn: 0.3365100\ttest: 0.3812271\tbest: 0.3812271 (3)\ttotal: 1.4s\tremaining: 11.9s\n",
      "4:\tlearn: 0.3353122\ttest: 0.3778172\tbest: 0.3778172 (4)\ttotal: 1.7s\tremaining: 11.2s\n",
      "5:\tlearn: 0.3349544\ttest: 0.3772308\tbest: 0.3772308 (5)\ttotal: 1.99s\tremaining: 10.6s\n",
      "6:\tlearn: 0.3339573\ttest: 0.3773710\tbest: 0.3772308 (5)\ttotal: 2.21s\tremaining: 9.79s\n",
      "7:\tlearn: 0.3333823\ttest: 0.3768047\tbest: 0.3768047 (7)\ttotal: 2.5s\tremaining: 9.39s\n",
      "8:\tlearn: 0.3331083\ttest: 0.3764681\tbest: 0.3764681 (8)\ttotal: 2.8s\tremaining: 9.02s\n",
      "9:\tlearn: 0.3328771\ttest: 0.3762088\tbest: 0.3762088 (9)\ttotal: 3.1s\tremaining: 8.68s\n",
      "10:\tlearn: 0.3326899\ttest: 0.3759112\tbest: 0.3759112 (10)\ttotal: 3.39s\tremaining: 8.33s\n",
      "11:\tlearn: 0.3323857\ttest: 0.3756314\tbest: 0.3756314 (11)\ttotal: 3.61s\tremaining: 7.82s\n",
      "12:\tlearn: 0.3322118\ttest: 0.3755317\tbest: 0.3755317 (12)\ttotal: 3.9s\tremaining: 7.5s\n",
      "13:\tlearn: 0.3320859\ttest: 0.3752867\tbest: 0.3752867 (13)\ttotal: 4.19s\tremaining: 7.18s\n",
      "14:\tlearn: 0.3319855\ttest: 0.3752073\tbest: 0.3752073 (14)\ttotal: 4.41s\tremaining: 6.76s\n",
      "15:\tlearn: 0.3318766\ttest: 0.3751315\tbest: 0.3751315 (15)\ttotal: 4.71s\tremaining: 6.47s\n",
      "16:\tlearn: 0.3317773\ttest: 0.3751238\tbest: 0.3751238 (16)\ttotal: 5s\tremaining: 6.17s\n",
      "17:\tlearn: 0.3317098\ttest: 0.3759783\tbest: 0.3751238 (16)\ttotal: 5.3s\tremaining: 5.89s\n",
      "18:\tlearn: 0.3316895\ttest: 0.3759305\tbest: 0.3751238 (16)\ttotal: 5.59s\tremaining: 5.59s\n",
      "19:\tlearn: 0.3316218\ttest: 0.3758637\tbest: 0.3751238 (16)\ttotal: 5.81s\tremaining: 5.23s\n",
      "20:\tlearn: 0.3314930\ttest: 0.3757145\tbest: 0.3751238 (16)\ttotal: 6.1s\tremaining: 4.94s\n",
      "21:\tlearn: 0.3314514\ttest: 0.3756429\tbest: 0.3751238 (16)\ttotal: 6.39s\tremaining: 4.64s\n",
      "22:\tlearn: 0.3314116\ttest: 0.3756045\tbest: 0.3751238 (16)\ttotal: 6.6s\tremaining: 4.31s\n",
      "23:\tlearn: 0.3313862\ttest: 0.3749660\tbest: 0.3749660 (23)\ttotal: 6.9s\tremaining: 4.02s\n",
      "24:\tlearn: 0.3312569\ttest: 0.3746255\tbest: 0.3746255 (24)\ttotal: 7.18s\tremaining: 3.74s\n",
      "25:\tlearn: 0.3309984\ttest: 0.3744572\tbest: 0.3744572 (25)\ttotal: 7.48s\tremaining: 3.45s\n",
      "26:\tlearn: 0.3309634\ttest: 0.3744327\tbest: 0.3744327 (26)\ttotal: 7.72s\tremaining: 3.14s\n",
      "27:\tlearn: 0.3309342\ttest: 0.3744340\tbest: 0.3744327 (26)\ttotal: 8s\tremaining: 2.86s\n",
      "28:\tlearn: 0.3308925\ttest: 0.3743585\tbest: 0.3743585 (28)\ttotal: 8.29s\tremaining: 2.57s\n",
      "29:\tlearn: 0.3308329\ttest: 0.3742976\tbest: 0.3742976 (29)\ttotal: 8.51s\tremaining: 2.27s\n",
      "30:\tlearn: 0.3308234\ttest: 0.3742958\tbest: 0.3742958 (30)\ttotal: 8.81s\tremaining: 1.99s\n",
      "31:\tlearn: 0.3307991\ttest: 0.3743519\tbest: 0.3742958 (30)\ttotal: 9.1s\tremaining: 1.71s\n",
      "32:\tlearn: 0.3307721\ttest: 0.3743476\tbest: 0.3742958 (30)\ttotal: 9.4s\tremaining: 1.42s\n",
      "33:\tlearn: 0.3307360\ttest: 0.3743607\tbest: 0.3742958 (30)\ttotal: 9.69s\tremaining: 1.14s\n",
      "34:\tlearn: 0.3307212\ttest: 0.3743329\tbest: 0.3742958 (30)\ttotal: 9.91s\tremaining: 849ms\n",
      "35:\tlearn: 0.3306943\ttest: 0.3743298\tbest: 0.3742958 (30)\ttotal: 10.2s\tremaining: 567ms\n",
      "36:\tlearn: 0.3306675\ttest: 0.3742757\tbest: 0.3742757 (36)\ttotal: 10.5s\tremaining: 283ms\n",
      "37:\tlearn: 0.3306608\ttest: 0.3742704\tbest: 0.3742704 (37)\ttotal: 10.7s\tremaining: 0us\n",
      "\n",
      "bestTest = 0.3742703983\n",
      "bestIteration = 37\n",
      "\n"
     ]
    },
    {
     "data": {
      "text/plain": [
       "<catboost.core.CatBoostClassifier at 0x7f3985c26fa0>"
      ]
     },
     "execution_count": 11,
     "metadata": {},
     "output_type": "execute_result"
    }
   ],
   "source": [
    "catboost = CatBoostClassifier(iterations=38,\n",
    "                              learning_rate=1,\n",
    "                              depth=2,\n",
    "                              random_state=42,\n",
    "                              use_best_model=True)\n",
    "\n",
    "catboost.fit(X_train, y_train, cat_features, eval_set=(X_test, y_test))"
   ]
  },
  {
   "cell_type": "code",
   "execution_count": 14,
   "id": "10670c75-8db4-4fed-9a7e-cda87cbb4737",
   "metadata": {},
   "outputs": [],
   "source": [
    "catboost.save_model('catboost1.cbm')"
   ]
  },
  {
   "cell_type": "code",
   "execution_count": 33,
   "id": "c0901d09-8498-4e64-9efc-e37a27429f2b",
   "metadata": {},
   "outputs": [],
   "source": [
    "catboost.save_model('catboost_min_features.cbm')"
   ]
  },
  {
   "cell_type": "code",
   "execution_count": 10,
   "id": "11cde961-66cd-4ebb-9dd0-72194e28dea1",
   "metadata": {},
   "outputs": [],
   "source": [
    "catboost1 = CatBoostClassifier().load_model('catboost1.cbm', format='cbm')"
   ]
  },
  {
   "cell_type": "code",
   "execution_count": 14,
   "id": "8d1aba35-92d8-4c98-9191-fa06e5bde7ca",
   "metadata": {},
   "outputs": [
    {
     "name": "stdout",
     "output_type": "stream",
     "text": [
      "0:\tlearn: 0.6200445\ttest: 0.6243857\tbest: 0.6243857 (0)\ttotal: 529ms\tremaining: 8m 48s\n",
      "50:\tlearn: 0.3354416\ttest: 0.3776373\tbest: 0.3776373 (50)\ttotal: 18.8s\tremaining: 5m 50s\n",
      "100:\tlearn: 0.3311603\ttest: 0.3741453\tbest: 0.3741453 (100)\ttotal: 37.1s\tremaining: 5m 30s\n",
      "150:\tlearn: 0.3299095\ttest: 0.3734076\tbest: 0.3733875 (146)\ttotal: 55.6s\tremaining: 5m 12s\n",
      "200:\tlearn: 0.3289978\ttest: 0.3728106\tbest: 0.3728106 (200)\ttotal: 1m 14s\tremaining: 4m 55s\n",
      "250:\tlearn: 0.3284727\ttest: 0.3723808\tbest: 0.3723808 (250)\ttotal: 1m 32s\tremaining: 4m 36s\n",
      "300:\tlearn: 0.3281492\ttest: 0.3721777\tbest: 0.3721777 (300)\ttotal: 1m 51s\tremaining: 4m 18s\n",
      "350:\tlearn: 0.3278463\ttest: 0.3726218\tbest: 0.3721459 (317)\ttotal: 2m 9s\tremaining: 4m\n",
      "400:\tlearn: 0.3276838\ttest: 0.3726260\tbest: 0.3721459 (317)\ttotal: 2m 29s\tremaining: 3m 43s\n",
      "450:\tlearn: 0.3275279\ttest: 0.3728154\tbest: 0.3721459 (317)\ttotal: 2m 48s\tremaining: 3m 25s\n",
      "500:\tlearn: 0.3273943\ttest: 0.3727781\tbest: 0.3721459 (317)\ttotal: 3m 7s\tremaining: 3m 6s\n",
      "550:\tlearn: 0.3272598\ttest: 0.3727011\tbest: 0.3721459 (317)\ttotal: 3m 26s\tremaining: 2m 48s\n",
      "600:\tlearn: 0.3271537\ttest: 0.3725916\tbest: 0.3721459 (317)\ttotal: 3m 46s\tremaining: 2m 30s\n",
      "650:\tlearn: 0.3270547\ttest: 0.3727271\tbest: 0.3721459 (317)\ttotal: 4m 6s\tremaining: 2m 11s\n",
      "700:\tlearn: 0.3269666\ttest: 0.3727319\tbest: 0.3721459 (317)\ttotal: 4m 26s\tremaining: 1m 53s\n",
      "750:\tlearn: 0.3268911\ttest: 0.3725370\tbest: 0.3721459 (317)\ttotal: 4m 46s\tremaining: 1m 34s\n",
      "800:\tlearn: 0.3268080\ttest: 0.3725267\tbest: 0.3721459 (317)\ttotal: 5m 6s\tremaining: 1m 16s\n",
      "Stopped by overfitting detector  (500 iterations wait)\n",
      "\n",
      "bestTest = 0.3721458951\n",
      "bestIteration = 317\n",
      "\n",
      "Shrink model to first 318 iterations.\n"
     ]
    },
    {
     "data": {
      "text/plain": [
       "<catboost.core.CatBoostClassifier at 0x7fdbc6ae7280>"
      ]
     },
     "execution_count": 14,
     "metadata": {},
     "output_type": "execute_result"
    }
   ],
   "source": [
    "catboost2 = CatBoostClassifier(iterations=318,\n",
    "                               learning_rate=0.1,\n",
    "                               depth=2,\n",
    "                               use_best_model=True,\n",
    "                               random_state=42,\n",
    "                               verbose=50)\n",
    "\n",
    "catboost2.fit(X_train, y_train, cat_features, eval_set=(X_test, y_test))"
   ]
  },
  {
   "cell_type": "code",
   "execution_count": 17,
   "id": "f0b81801-e2aa-461a-b7ca-2d1eacf8a68e",
   "metadata": {},
   "outputs": [],
   "source": [
    "catboost2.save_model('catboost2.cbm')"
   ]
  },
  {
   "cell_type": "code",
   "execution_count": 11,
   "id": "86c3e48a-12b6-43f2-acd0-6e81dfbbdb59",
   "metadata": {},
   "outputs": [],
   "source": [
    "catboost2 = CatBoostClassifier().load_model('catboost2.cbm', format='cbm')"
   ]
  },
  {
   "cell_type": "code",
   "execution_count": 12,
   "id": "ddc75ac7-646a-4122-a860-c99ef6f87fe2",
   "metadata": {},
   "outputs": [
    {
     "name": "stdout",
     "output_type": "stream",
     "text": [
      "0:\tlearn: 0.6373524\ttest: 0.6406080\tbest: 0.6406080 (0)\ttotal: 497ms\tremaining: 9m 55s\n",
      "50:\tlearn: 0.3379766\ttest: 0.3800690\tbest: 0.3800690 (50)\ttotal: 18.4s\tremaining: 6m 53s\n",
      "100:\tlearn: 0.3323277\ttest: 0.3752734\tbest: 0.3752734 (100)\ttotal: 36.6s\tremaining: 6m 37s\n",
      "150:\tlearn: 0.3306597\ttest: 0.3739996\tbest: 0.3739996 (150)\ttotal: 55.4s\tremaining: 6m 24s\n",
      "200:\tlearn: 0.3299169\ttest: 0.3735008\tbest: 0.3735008 (200)\ttotal: 1m 13s\tremaining: 6m 7s\n",
      "250:\tlearn: 0.3293572\ttest: 0.3730616\tbest: 0.3730616 (250)\ttotal: 1m 31s\tremaining: 5m 47s\n",
      "300:\tlearn: 0.3288361\ttest: 0.3727789\tbest: 0.3727736 (298)\ttotal: 1m 50s\tremaining: 5m 28s\n",
      "350:\tlearn: 0.3284536\ttest: 0.3725053\tbest: 0.3724964 (349)\ttotal: 2m 8s\tremaining: 5m 11s\n",
      "400:\tlearn: 0.3282392\ttest: 0.3724124\tbest: 0.3723592 (384)\ttotal: 2m 27s\tremaining: 4m 54s\n",
      "450:\tlearn: 0.3280524\ttest: 0.3723819\tbest: 0.3723350 (429)\ttotal: 2m 46s\tremaining: 4m 37s\n",
      "500:\tlearn: 0.3279163\ttest: 0.3723541\tbest: 0.3723130 (480)\ttotal: 3m 6s\tremaining: 4m 19s\n",
      "550:\tlearn: 0.3277706\ttest: 0.3723399\tbest: 0.3722886 (533)\ttotal: 3m 24s\tremaining: 4m 1s\n",
      "600:\tlearn: 0.3276334\ttest: 0.3721693\tbest: 0.3721628 (599)\ttotal: 3m 43s\tremaining: 3m 43s\n",
      "650:\tlearn: 0.3275507\ttest: 0.3722388\tbest: 0.3721558 (642)\ttotal: 4m 3s\tremaining: 3m 25s\n",
      "700:\tlearn: 0.3274887\ttest: 0.3721775\tbest: 0.3721558 (642)\ttotal: 4m 23s\tremaining: 3m 7s\n",
      "750:\tlearn: 0.3274305\ttest: 0.3721303\tbest: 0.3721303 (750)\ttotal: 4m 43s\tremaining: 2m 49s\n",
      "800:\tlearn: 0.3273424\ttest: 0.3720213\tbest: 0.3720203 (798)\ttotal: 5m 3s\tremaining: 2m 31s\n",
      "850:\tlearn: 0.3272593\ttest: 0.3719882\tbest: 0.3719882 (850)\ttotal: 5m 22s\tremaining: 2m 12s\n",
      "900:\tlearn: 0.3271748\ttest: 0.3719926\tbest: 0.3719882 (850)\ttotal: 5m 41s\tremaining: 1m 53s\n",
      "950:\tlearn: 0.3271093\ttest: 0.3719552\tbest: 0.3719454 (939)\ttotal: 6m 1s\tremaining: 1m 34s\n",
      "1000:\tlearn: 0.3270341\ttest: 0.3719024\tbest: 0.3719024 (1000)\ttotal: 6m 21s\tremaining: 1m 15s\n",
      "1050:\tlearn: 0.3269522\ttest: 0.3719209\tbest: 0.3718859 (1015)\ttotal: 6m 42s\tremaining: 57s\n",
      "1100:\tlearn: 0.3268790\ttest: 0.3719103\tbest: 0.3718767 (1085)\ttotal: 7m 1s\tremaining: 37.9s\n",
      "1150:\tlearn: 0.3268401\ttest: 0.3719392\tbest: 0.3718767 (1085)\ttotal: 7m 21s\tremaining: 18.8s\n",
      "1199:\tlearn: 0.3267609\ttest: 0.3719133\tbest: 0.3718767 (1085)\ttotal: 7m 41s\tremaining: 0us\n",
      "\n",
      "bestTest = 0.3718767469\n",
      "bestIteration = 1085\n",
      "\n",
      "Shrink model to first 1086 iterations.\n"
     ]
    },
    {
     "data": {
      "text/plain": [
       "<catboost.core.CatBoostClassifier at 0x7f207c05e040>"
      ]
     },
     "execution_count": 12,
     "metadata": {},
     "output_type": "execute_result"
    }
   ],
   "source": [
    "catboost3 = CatBoostClassifier(iterations=1200,\n",
    "                               learning_rate=0.075,\n",
    "                               depth=2,\n",
    "                               use_best_model=True,\n",
    "                               # early_stopping_rounds=200,\n",
    "                               random_state=42,\n",
    "                               verbose=50)\n",
    "\n",
    "catboost3.fit(X_train, y_train, cat_features, eval_set=(X_test, y_test))"
   ]
  },
  {
   "cell_type": "code",
   "execution_count": 26,
   "id": "f4ee17d7-b1a3-43f5-9a89-e11fe8c621d5",
   "metadata": {},
   "outputs": [],
   "source": [
    "catboost3.save_model('catboost3.cbm')"
   ]
  },
  {
   "cell_type": "code",
   "execution_count": 27,
   "id": "b1f492b0-57ac-486f-9f41-f0792394ed7c",
   "metadata": {},
   "outputs": [],
   "source": [
    "catboost3 = CatBoostClassifier().load_model('catboost3.cbm', format='cbm')"
   ]
  },
  {
   "cell_type": "code",
   "execution_count": 16,
   "id": "1cdb76ea-7866-4c05-883c-3233f473a164",
   "metadata": {},
   "outputs": [
    {
     "name": "stdout",
     "output_type": "stream",
     "text": [
      "0:\tlearn: 0.6373524\ttest: 0.6406080\tbest: 0.6406080 (0)\ttotal: 458ms\tremaining: 15m 15s\n",
      "50:\tlearn: 0.3379766\ttest: 0.3800690\tbest: 0.3800690 (50)\ttotal: 18.5s\tremaining: 11m 48s\n",
      "100:\tlearn: 0.3323277\ttest: 0.3752734\tbest: 0.3752734 (100)\ttotal: 37.1s\tremaining: 11m 37s\n",
      "150:\tlearn: 0.3306597\ttest: 0.3739996\tbest: 0.3739996 (150)\ttotal: 56.2s\tremaining: 11m 28s\n",
      "200:\tlearn: 0.3299169\ttest: 0.3735008\tbest: 0.3735008 (200)\ttotal: 1m 14s\tremaining: 11m 9s\n",
      "250:\tlearn: 0.3293572\ttest: 0.3730616\tbest: 0.3730616 (250)\ttotal: 1m 33s\tremaining: 10m 50s\n",
      "300:\tlearn: 0.3288361\ttest: 0.3727789\tbest: 0.3727736 (298)\ttotal: 1m 51s\tremaining: 10m 29s\n",
      "350:\tlearn: 0.3284536\ttest: 0.3725053\tbest: 0.3724964 (349)\ttotal: 2m 10s\tremaining: 10m 13s\n",
      "400:\tlearn: 0.3282392\ttest: 0.3724124\tbest: 0.3723592 (384)\ttotal: 2m 29s\tremaining: 9m 57s\n",
      "450:\tlearn: 0.3280524\ttest: 0.3723819\tbest: 0.3723350 (429)\ttotal: 2m 48s\tremaining: 9m 40s\n",
      "500:\tlearn: 0.3279163\ttest: 0.3723541\tbest: 0.3723130 (480)\ttotal: 3m 8s\tremaining: 9m 23s\n",
      "550:\tlearn: 0.3277706\ttest: 0.3723399\tbest: 0.3722886 (533)\ttotal: 3m 26s\tremaining: 9m 3s\n",
      "600:\tlearn: 0.3276334\ttest: 0.3721693\tbest: 0.3721628 (599)\ttotal: 3m 45s\tremaining: 8m 45s\n",
      "650:\tlearn: 0.3275507\ttest: 0.3722388\tbest: 0.3721558 (642)\ttotal: 4m 5s\tremaining: 8m 28s\n",
      "700:\tlearn: 0.3274887\ttest: 0.3721775\tbest: 0.3721558 (642)\ttotal: 4m 24s\tremaining: 8m 10s\n",
      "750:\tlearn: 0.3274305\ttest: 0.3721303\tbest: 0.3721303 (750)\ttotal: 4m 45s\tremaining: 7m 54s\n",
      "800:\tlearn: 0.3273424\ttest: 0.3720213\tbest: 0.3720203 (798)\ttotal: 5m 4s\tremaining: 7m 36s\n",
      "850:\tlearn: 0.3272593\ttest: 0.3719882\tbest: 0.3719882 (850)\ttotal: 5m 24s\tremaining: 7m 17s\n",
      "900:\tlearn: 0.3271748\ttest: 0.3719926\tbest: 0.3719882 (850)\ttotal: 5m 43s\tremaining: 6m 59s\n",
      "950:\tlearn: 0.3271093\ttest: 0.3719552\tbest: 0.3719454 (939)\ttotal: 6m 3s\tremaining: 6m 40s\n",
      "1000:\tlearn: 0.3270341\ttest: 0.3719024\tbest: 0.3719024 (1000)\ttotal: 6m 23s\tremaining: 6m 22s\n",
      "1050:\tlearn: 0.3269522\ttest: 0.3719209\tbest: 0.3718859 (1015)\ttotal: 6m 44s\tremaining: 6m 5s\n",
      "1100:\tlearn: 0.3268790\ttest: 0.3719103\tbest: 0.3718767 (1085)\ttotal: 7m 3s\tremaining: 5m 46s\n",
      "1150:\tlearn: 0.3268401\ttest: 0.3719392\tbest: 0.3718767 (1085)\ttotal: 7m 24s\tremaining: 5m 27s\n",
      "1200:\tlearn: 0.3267601\ttest: 0.3719125\tbest: 0.3718767 (1085)\ttotal: 7m 44s\tremaining: 5m 9s\n",
      "1250:\tlearn: 0.3267151\ttest: 0.3717928\tbest: 0.3717927 (1249)\ttotal: 8m 4s\tremaining: 4m 50s\n",
      "1300:\tlearn: 0.3266605\ttest: 0.3717314\tbest: 0.3717314 (1300)\ttotal: 8m 25s\tremaining: 4m 31s\n",
      "1350:\tlearn: 0.3266096\ttest: 0.3717433\tbest: 0.3717308 (1307)\ttotal: 8m 45s\tremaining: 4m 12s\n",
      "1400:\tlearn: 0.3265659\ttest: 0.3717049\tbest: 0.3717049 (1400)\ttotal: 9m 5s\tremaining: 3m 53s\n",
      "1450:\tlearn: 0.3265414\ttest: 0.3716326\tbest: 0.3716301 (1433)\ttotal: 9m 25s\tremaining: 3m 34s\n",
      "1500:\tlearn: 0.3265030\ttest: 0.3716380\tbest: 0.3716295 (1453)\ttotal: 9m 46s\tremaining: 3m 14s\n",
      "1550:\tlearn: 0.3264459\ttest: 0.3716280\tbest: 0.3716185 (1526)\ttotal: 10m 6s\tremaining: 2m 55s\n",
      "1600:\tlearn: 0.3263879\ttest: 0.3715284\tbest: 0.3715251 (1593)\ttotal: 10m 26s\tremaining: 2m 36s\n",
      "1650:\tlearn: 0.3263426\ttest: 0.3715333\tbest: 0.3715229 (1607)\ttotal: 10m 47s\tremaining: 2m 16s\n",
      "1700:\tlearn: 0.3263023\ttest: 0.3715074\tbest: 0.3714982 (1686)\ttotal: 11m 8s\tremaining: 1m 57s\n",
      "1750:\tlearn: 0.3262539\ttest: 0.3714717\tbest: 0.3714717 (1750)\ttotal: 11m 28s\tremaining: 1m 37s\n",
      "1800:\tlearn: 0.3262120\ttest: 0.3714342\tbest: 0.3714338 (1793)\ttotal: 11m 48s\tremaining: 1m 18s\n",
      "1850:\tlearn: 0.3261663\ttest: 0.3714496\tbest: 0.3714269 (1801)\ttotal: 12m 9s\tremaining: 58.7s\n",
      "1900:\tlearn: 0.3261378\ttest: 0.3714460\tbest: 0.3714269 (1801)\ttotal: 12m 30s\tremaining: 39.1s\n",
      "1950:\tlearn: 0.3260973\ttest: 0.3714321\tbest: 0.3714193 (1924)\ttotal: 12m 51s\tremaining: 19.4s\n",
      "1999:\tlearn: 0.3260530\ttest: 0.3714053\tbest: 0.3714006 (1995)\ttotal: 13m 11s\tremaining: 0us\n",
      "\n",
      "bestTest = 0.3714005746\n",
      "bestIteration = 1995\n",
      "\n",
      "Shrink model to first 1996 iterations.\n"
     ]
    },
    {
     "data": {
      "text/plain": [
       "<catboost.core.CatBoostClassifier at 0x7f206abf7f10>"
      ]
     },
     "execution_count": 16,
     "metadata": {},
     "output_type": "execute_result"
    }
   ],
   "source": [
    "catboost4 = CatBoostClassifier(iterations=2000,\n",
    "                               learning_rate=0.075,\n",
    "                               depth=2,\n",
    "                               use_best_model=True,\n",
    "                               early_stopping_rounds=500,\n",
    "                               random_state=42,\n",
    "                               verbose=50)\n",
    "\n",
    "catboost4.fit(X_train, y_train, cat_features, eval_set=(X_test, y_test))"
   ]
  },
  {
   "cell_type": "code",
   "execution_count": 21,
   "id": "ea9735bf-6df0-4b1c-8728-a9512e22f6d7",
   "metadata": {},
   "outputs": [],
   "source": [
    "catboost4.save_model('catboost4.cbm')"
   ]
  },
  {
   "cell_type": "code",
   "execution_count": 14,
   "id": "90f16dd7-128c-4b15-add9-26fcff43423d",
   "metadata": {},
   "outputs": [
    {
     "name": "stdout",
     "output_type": "stream",
     "text": [
      "Качество на трейне: 0.7091227972933688\n",
      "Качество на тесте: 0.6843883627335543\n"
     ]
    }
   ],
   "source": [
    "from sklearn.metrics import roc_auc_score\n",
    "\n",
    "print(f\"Качество на трейне: {roc_auc_score(y_train, catboost1.predict_proba(X_train)[:, 1])}\")\n",
    "print(f\"Качество на тесте: {roc_auc_score(y_test, catboost1.predict_proba(X_test)[:, 1])}\")"
   ]
  },
  {
   "cell_type": "code",
   "execution_count": 23,
   "id": "d2c0484b-5f54-4229-8c49-e0cea9a6dbb1",
   "metadata": {},
   "outputs": [
    {
     "name": "stdout",
     "output_type": "stream",
     "text": [
      "Качество на трейне: 0.722164809746455\n",
      "Качество на тесте: 0.6898675633690351\n"
     ]
    }
   ],
   "source": [
    "print(f\"Качество на трейне: {roc_auc_score(y_train, catboost2.predict_proba(X_train)[:, 1])}\")\n",
    "print(f\"Качество на тесте: {roc_auc_score(y_test, catboost2.predict_proba(X_test)[:, 1])}\")"
   ]
  },
  {
   "cell_type": "code",
   "execution_count": 15,
   "id": "6e74848f-6e72-4ed7-9876-6ce0f3c65750",
   "metadata": {},
   "outputs": [
    {
     "name": "stdout",
     "output_type": "stream",
     "text": [
      "Качество на трейне: 0.7262271045732193\n",
      "Качество на тесте: 0.6916623217611229\n"
     ]
    }
   ],
   "source": [
    "print(f\"Качество на трейне: {roc_auc_score(y_train, catboost3.predict_proba(X_train)[:, 1])}\")\n",
    "print(f\"Качество на тесте: {roc_auc_score(y_test, catboost3.predict_proba(X_test)[:, 1])}\")"
   ]
  },
  {
   "cell_type": "code",
   "execution_count": 17,
   "id": "9875c022-4fc6-4e55-8000-d8019bb40231",
   "metadata": {},
   "outputs": [
    {
     "name": "stdout",
     "output_type": "stream",
     "text": [
      "Качество на трейне: 0.7285305115146674\n",
      "Качество на тесте: 0.6927595032198017\n"
     ]
    }
   ],
   "source": [
    "print(f\"Качество на трейне: {roc_auc_score(y_train, catboost4.predict_proba(X_train)[:, 1])}\")\n",
    "print(f\"Качество на тесте: {roc_auc_score(y_test, catboost4.predict_proba(X_test)[:, 1])}\")"
   ]
  },
  {
   "cell_type": "code",
   "execution_count": 20,
   "id": "dc3eab75-b5a7-4cd1-9d39-665eae158492",
   "metadata": {},
   "outputs": [
    {
     "data": {
      "image/png": "[encoded data removed]",
      "text/plain": [
       "<Figure size 720x576 with 1 Axes>"
      ]
     },
     "metadata": {
      "needs_background": "light"
     },
     "output_type": "display_data"
    }
   ],
   "source": [
    "import seaborn as sns\n",
    "import numpy as np\n",
    "import matplotlib.pyplot as plt\n",
    "\n",
    "def plot_feature_importance(importance,names,model_type):\n",
    "    \n",
    "    #Create arrays from feature importance and feature names\n",
    "    feature_importance = np.array(importance)\n",
    "    feature_names = np.array(names)\n",
    "    \n",
    "    #Create a DataFrame using a Dictionary\n",
    "    data={'feature_names':feature_names,'feature_importance':feature_importance}\n",
    "    fi_df = pd.DataFrame(data)\n",
    "    \n",
    "    #Sort the DataFrame in order decreasing feature importance\n",
    "    fi_df.sort_values(by=['feature_importance'], ascending=False,inplace=True)\n",
    "    \n",
    "    #Define size of bar plot\n",
    "    plt.figure(figsize=(10,8))\n",
    "    #Plot Searborn bar chart\n",
    "    sns.barplot(x=fi_df['feature_importance'], y=fi_df['feature_names'])\n",
    "    #Add chart labels\n",
    "    plt.title(model_type + 'FEATURE IMPORTANCE')\n",
    "    plt.xlabel('feature importance')\n",
    "    plt.ylabel('feature names')\n",
    "    \n",
    "plot_feature_importance(catboost4.feature_importances_,X_train.columns,'Catboost ')"
   ]
  },
  {
   "cell_type": "code",
   "execution_count": 43,
   "id": "eabdf639-7fac-48a4-b7e9-72269d20631d",
   "metadata": {},
   "outputs": [],
   "source": [
    "from catboost import CatBoostClassifier\n",
    "auc_model = CatBoostClassifier().load_model('catboost_auc_model.cbm', format='cbm')"
   ]
  },
  {
   "cell_type": "code",
   "execution_count": 75,
   "id": "bfd1d871-0a79-411c-b300-1b7294e26345",
   "metadata": {},
   "outputs": [
    {
     "data": {
      "text/plain": [
       "array([[0.75398533, 0.24601467],\n",
       "       [0.89899599, 0.10100401],\n",
       "       [0.65203966, 0.34796034],\n",
       "       ...,\n",
       "       [0.78908363, 0.21091637],\n",
       "       [0.97010121, 0.02989879],\n",
       "       [0.933909  , 0.066091  ]])"
      ]
     },
     "execution_count": 75,
     "metadata": {},
     "output_type": "execute_result"
    }
   ],
   "source": [
    "auc_model.predict_proba(X_test)"
   ]
  }
 ],
 "metadata": {
  "kernelspec": {
   "display_name": "Python 3 (ipykernel)",
   "language": "python",
   "name": "python3"
  },
  "language_info": {
   "codemirror_mode": {
    "name": "ipython",
    "version": 3
   },
   "file_extension": ".py",
   "mimetype": "text/x-python",
   "name": "python",
   "nbconvert_exporter": "python",
   "pygments_lexer": "ipython3",
   "version": "3.8.10"
  }
 },
 "nbformat": 4,
 "nbformat_minor": 5
}
