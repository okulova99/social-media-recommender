{
 "cells": [
  {
   "cell_type": "code",
   "execution_count": 11,
   "id": "c2f6ee3a",
   "metadata": {},
   "outputs": [],
   "source": [
    "import sys\n",
    "from pathlib import Path\n",
    "\n",
    "project_root = Path.cwd().parent\n",
    "if str(project_root) not in sys.path:\n",
    "    sys.path.append(str(project_root))"
   ]
  },
  {
   "cell_type": "code",
   "execution_count": 12,
   "id": "3f20580b-5afa-4aa9-b1b5-2486c2365617",
   "metadata": {},
   "outputs": [],
   "source": [
    "import pandas as pd\n",
    "from sqlalchemy import create_engine\n",
    "from src.api.dependencies import get_db_url\n",
    "\n",
    "\n",
    "db_url = get_db_url()\n",
    "engine = create_engine(db_url)"
   ]
  },
  {
   "cell_type": "code",
   "execution_count": 13,
   "id": "f6744ac4-4fc5-4d6b-9c64-1c193a769e9b",
   "metadata": {},
   "outputs": [
    {
     "data": {
      "text/html": [
       "<div>\n",
       "<style scoped>\n",
       "    .dataframe tbody tr th:only-of-type {\n",
       "        vertical-align: middle;\n",
       "    }\n",
       "\n",
       "    .dataframe tbody tr th {\n",
       "        vertical-align: top;\n",
       "    }\n",
       "\n",
       "    .dataframe thead th {\n",
       "        text-align: right;\n",
       "    }\n",
       "</style>\n",
       "<table border=\"1\" class=\"dataframe\">\n",
       "  <thead>\n",
       "    <tr style=\"text-align: right;\">\n",
       "      <th></th>\n",
       "      <th>timestamp</th>\n",
       "      <th>user_id</th>\n",
       "      <th>post_id</th>\n",
       "      <th>action</th>\n",
       "      <th>target</th>\n",
       "    </tr>\n",
       "  </thead>\n",
       "  <tbody>\n",
       "    <tr>\n",
       "      <th>0</th>\n",
       "      <td>2021-11-04 10:37:09</td>\n",
       "      <td>135744</td>\n",
       "      <td>4318</td>\n",
       "      <td>view</td>\n",
       "      <td>0</td>\n",
       "    </tr>\n",
       "    <tr>\n",
       "      <th>1</th>\n",
       "      <td>2021-11-04 10:37:41</td>\n",
       "      <td>135744</td>\n",
       "      <td>4960</td>\n",
       "      <td>view</td>\n",
       "      <td>0</td>\n",
       "    </tr>\n",
       "    <tr>\n",
       "      <th>2</th>\n",
       "      <td>2021-11-04 10:40:16</td>\n",
       "      <td>135744</td>\n",
       "      <td>4815</td>\n",
       "      <td>view</td>\n",
       "      <td>0</td>\n",
       "    </tr>\n",
       "    <tr>\n",
       "      <th>3</th>\n",
       "      <td>2021-11-04 10:42:04</td>\n",
       "      <td>135744</td>\n",
       "      <td>2216</td>\n",
       "      <td>view</td>\n",
       "      <td>0</td>\n",
       "    </tr>\n",
       "    <tr>\n",
       "      <th>4</th>\n",
       "      <td>2021-11-04 10:44:22</td>\n",
       "      <td>135744</td>\n",
       "      <td>5285</td>\n",
       "      <td>view</td>\n",
       "      <td>0</td>\n",
       "    </tr>\n",
       "  </tbody>\n",
       "</table>\n",
       "</div>"
      ],
      "text/plain": [
       "            timestamp  user_id  post_id action  target\n",
       "0 2021-11-04 10:37:09   135744     4318   view       0\n",
       "1 2021-11-04 10:37:41   135744     4960   view       0\n",
       "2 2021-11-04 10:40:16   135744     4815   view       0\n",
       "3 2021-11-04 10:42:04   135744     2216   view       0\n",
       "4 2021-11-04 10:44:22   135744     5285   view       0"
      ]
     },
     "execution_count": 13,
     "metadata": {},
     "output_type": "execute_result"
    }
   ],
   "source": [
    "feed_df = pd.read_sql(\"\"\"\n",
    "SELECT timestamp, user_id, post_id, action, target\n",
    "FROM \"feed_data\"\n",
    "LIMIT 1000000\n",
    "\"\"\", con=engine)\n",
    "feed_df.head()"
   ]
  },
  {
   "cell_type": "code",
   "execution_count": 14,
   "id": "3ac183da-acf6-4b14-ba33-9e0e546da9ae",
   "metadata": {},
   "outputs": [],
   "source": [
    "feed_df = feed_df[feed_df.action=='view']"
   ]
  },
  {
   "cell_type": "code",
   "execution_count": 15,
   "id": "cedabcd9-e001-42f5-972f-45d82859dc74",
   "metadata": {},
   "outputs": [
    {
     "data": {
      "text/plain": [
       "0.12065939730817074"
      ]
     },
     "execution_count": 15,
     "metadata": {},
     "output_type": "execute_result"
    }
   ],
   "source": [
    "feed_df.target.mean()"
   ]
  },
  {
   "cell_type": "code",
   "execution_count": 16,
   "id": "895e3e26-628f-4c23-93a9-61fd2e051a08",
   "metadata": {},
   "outputs": [
    {
     "data": {
      "text/plain": [
       "timestamp    497672\n",
       "user_id        2153\n",
       "post_id        6831\n",
       "action            1\n",
       "target            2\n",
       "dtype: int64"
      ]
     },
     "execution_count": 16,
     "metadata": {},
     "output_type": "execute_result"
    }
   ],
   "source": [
    "feed_df.nunique()"
   ]
  },
  {
   "cell_type": "code",
   "execution_count": 20,
   "id": "7344a9ef-b8e4-4ddf-82eb-e39278adb7c8",
   "metadata": {},
   "outputs": [],
   "source": [
    "from config.constants import PROCESSED_DIR\n",
    "import pickle\n",
    "\n",
    "pkl_path = PROCESSED_DIR / \"feed_data.pkl\"\n",
    "with open(pkl_path, 'wb') as f:\n",
    "    pickle.dump(feed_df, f)"
   ]
  }
 ],
 "metadata": {
  "kernelspec": {
   "display_name": "venv",
   "language": "python",
   "name": "python3"
  },
  "language_info": {
   "codemirror_mode": {
    "name": "ipython",
    "version": 3
   },
   "file_extension": ".py",
   "mimetype": "text/x-python",
   "name": "python",
   "nbconvert_exporter": "python",
   "pygments_lexer": "ipython3",
   "version": "3.8.18"
  }
 },
 "nbformat": 4,
 "nbformat_minor": 5
}
