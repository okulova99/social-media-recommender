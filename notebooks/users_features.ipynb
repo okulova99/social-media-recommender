{
 "cells": [
  {
   "cell_type": "code",
   "execution_count": 1,
   "id": "76028531-2a36-4649-8bf7-ba35ba657e1f",
   "metadata": {},
   "outputs": [],
   "source": [
    "import warnings\n",
    "warnings.filterwarnings('ignore')"
   ]
  },
  {
   "cell_type": "code",
   "execution_count": 4,
   "id": "45412ba3-3389-429e-8187-9ee4b4fe66f2",
   "metadata": {},
   "outputs": [],
   "source": [
    "import pandas as pd\n",
    "from sqlalchemy import create_engine\n",
    "\n",
    "engine = create_engine(\n",
    "    \"postgresql://robot-startml-ro:pheiph0hahj1Vaif@\"\n",
    "    \"postgres.lab.karpov.courses:6432/startml\"\n",
    ")"
   ]
  },
  {
   "cell_type": "code",
   "execution_count": 5,
   "id": "b5df8e9a-00b2-48a5-8b53-71af75088df1",
   "metadata": {},
   "outputs": [
    {
     "data": {
      "text/plain": [
       "<AxesSubplot:xlabel='age', ylabel='Probability'>"
      ]
     },
     "execution_count": 5,
     "metadata": {},
     "output_type": "execute_result"
    },
    {
     "data": {
      "image/png": "[encoded data removed]",
      "text/plain": [
       "<Figure size 432x288 with 1 Axes>"
      ]
     },
     "metadata": {
      "needs_background": "light"
     },
     "output_type": "display_data"
    }
   ],
   "source": [
    "sample5 = pd.read_sql(\n",
    "    \"\"\"\n",
    "    SELECT\n",
    "        *\n",
    "    FROM user_data \n",
    "    WHERE 1=1\n",
    ";\n",
    "\"\"\", con=engine)\n",
    "import seaborn as sns\n",
    "sns.histplot(data=sample5['age'],stat='probability')"
   ]
  },
  {
   "cell_type": "code",
   "execution_count": 6,
   "id": "7231d756-5bad-408f-80e8-e02ceae46bb9",
   "metadata": {},
   "outputs": [
    {
     "data": {
      "text/plain": [
       "<AxesSubplot:xlabel='age', ylabel='Probability'>"
      ]
     },
     "execution_count": 6,
     "metadata": {},
     "output_type": "execute_result"
    },
    {
     "data": {
      "image/png": "[encoded data removed]",
      "text/plain": [
       "<Figure size 432x288 with 1 Axes>"
      ]
     },
     "metadata": {
      "needs_background": "light"
     },
     "output_type": "display_data"
    }
   ],
   "source": [
    "from scipy.stats import describe\n",
    "from scipy import stats\n",
    "\n",
    "sample = sample5['age'].sample(2000)\n",
    "\n",
    "sns.histplot(data=sample,stat='probability')"
   ]
  },
  {
   "cell_type": "code",
   "execution_count": 7,
   "id": "3e177644-e224-492f-b42a-f763ef1a6feb",
   "metadata": {},
   "outputs": [
    {
     "data": {
      "text/plain": [
       "count    2000.000000\n",
       "mean       27.019500\n",
       "std         9.939946\n",
       "min        14.000000\n",
       "25%        19.000000\n",
       "50%        24.000000\n",
       "75%        33.000000\n",
       "max        79.000000\n",
       "Name: age, dtype: float64"
      ]
     },
     "execution_count": 7,
     "metadata": {},
     "output_type": "execute_result"
    }
   ],
   "source": [
    "sample.describe()"
   ]
  },
  {
   "cell_type": "code",
   "execution_count": 8,
   "id": "3a9d78e4-e79d-41a3-a679-a3ab5f4a14e9",
   "metadata": {},
   "outputs": [],
   "source": [
    "user_df = pd.read_sql('SELECT * FROM user_data', con=engine)"
   ]
  },
  {
   "cell_type": "code",
   "execution_count": 9,
   "id": "2cab5425-d1f7-4c90-ba8b-031144cc7b7e",
   "metadata": {},
   "outputs": [
    {
     "data": {
      "text/html": [
       "<div>\n",
       "<style scoped>\n",
       "    .dataframe tbody tr th:only-of-type {\n",
       "        vertical-align: middle;\n",
       "    }\n",
       "\n",
       "    .dataframe tbody tr th {\n",
       "        vertical-align: top;\n",
       "    }\n",
       "\n",
       "    .dataframe thead th {\n",
       "        text-align: right;\n",
       "    }\n",
       "</style>\n",
       "<table border=\"1\" class=\"dataframe\">\n",
       "  <thead>\n",
       "    <tr style=\"text-align: right;\">\n",
       "      <th></th>\n",
       "      <th>country</th>\n",
       "      <th>city</th>\n",
       "      <th>os</th>\n",
       "      <th>source</th>\n",
       "    </tr>\n",
       "  </thead>\n",
       "  <tbody>\n",
       "    <tr>\n",
       "      <th>count</th>\n",
       "      <td>163205</td>\n",
       "      <td>163205</td>\n",
       "      <td>163205</td>\n",
       "      <td>163205</td>\n",
       "    </tr>\n",
       "    <tr>\n",
       "      <th>unique</th>\n",
       "      <td>11</td>\n",
       "      <td>3915</td>\n",
       "      <td>2</td>\n",
       "      <td>2</td>\n",
       "    </tr>\n",
       "    <tr>\n",
       "      <th>top</th>\n",
       "      <td>Russia</td>\n",
       "      <td>Moscow</td>\n",
       "      <td>Android</td>\n",
       "      <td>ads</td>\n",
       "    </tr>\n",
       "    <tr>\n",
       "      <th>freq</th>\n",
       "      <td>143035</td>\n",
       "      <td>21874</td>\n",
       "      <td>105972</td>\n",
       "      <td>101685</td>\n",
       "    </tr>\n",
       "  </tbody>\n",
       "</table>\n",
       "</div>"
      ],
      "text/plain": [
       "       country    city       os  source\n",
       "count   163205  163205   163205  163205\n",
       "unique      11    3915        2       2\n",
       "top     Russia  Moscow  Android     ads\n",
       "freq    143035   21874   105972  101685"
      ]
     },
     "execution_count": 9,
     "metadata": {},
     "output_type": "execute_result"
    }
   ],
   "source": [
    "user_df.describe(include='object')"
   ]
  },
  {
   "cell_type": "code",
   "execution_count": 14,
   "id": "90dc5875-edfb-49aa-95ae-5f1b773f9543",
   "metadata": {},
   "outputs": [],
   "source": [
    "user_df = user_df[['user_id', 'country', 'gender', 'age', 'city', 'exp_group']]"
   ]
  },
  {
   "cell_type": "code",
   "execution_count": 15,
   "id": "991f5c06-6c4e-457c-b2bc-af9a3899f31d",
   "metadata": {},
   "outputs": [
    {
     "name": "stdout",
     "output_type": "stream",
     "text": [
      "<class 'pandas.core.frame.DataFrame'>\n",
      "RangeIndex: 163205 entries, 0 to 163204\n",
      "Data columns (total 6 columns):\n",
      " #   Column     Non-Null Count   Dtype \n",
      "---  ------     --------------   ----- \n",
      " 0   user_id    163205 non-null  int64 \n",
      " 1   country    163205 non-null  object\n",
      " 2   gender     163205 non-null  int64 \n",
      " 3   age        163205 non-null  int64 \n",
      " 4   city       163205 non-null  object\n",
      " 5   exp_group  163205 non-null  int64 \n",
      "dtypes: int64(4), object(2)\n",
      "memory usage: 7.5+ MB\n"
     ]
    }
   ],
   "source": [
    "user_df.info()"
   ]
  },
  {
   "cell_type": "code",
   "execution_count": 16,
   "id": "47412bf7-e26c-4770-bdae-bd55ecee9cfa",
   "metadata": {},
   "outputs": [],
   "source": [
    "user_df.to_csv(\"users_feautures.csv\", index=False)"
   ]
  },
  {
   "cell_type": "code",
   "execution_count": 17,
   "id": "4ee5893f-b9e6-4316-adca-51c05bcc2c56",
   "metadata": {},
   "outputs": [],
   "source": [
    "user_df = pd.read_csv(\"users_feautures.csv\")"
   ]
  },
  {
   "cell_type": "code",
   "execution_count": 45,
   "id": "2499b3b9-733f-493e-b1c8-fd5d60952959",
   "metadata": {},
   "outputs": [],
   "source": [
    "with open('user_df.pkl', 'wb') as f:\n",
    "    pickle.dump(user_df, f)"
   ]
  }
 ],
 "metadata": {
  "kernelspec": {
   "display_name": "Python 3 (ipykernel)",
   "language": "python",
   "name": "python3"
  },
  "language_info": {
   "codemirror_mode": {
    "name": "ipython",
    "version": 3
   },
   "file_extension": ".py",
   "mimetype": "text/x-python",
   "name": "python",
   "nbconvert_exporter": "python",
   "pygments_lexer": "ipython3",
   "version": "3.8.10"
  }
 },
 "nbformat": 4,
 "nbformat_minor": 5
}
